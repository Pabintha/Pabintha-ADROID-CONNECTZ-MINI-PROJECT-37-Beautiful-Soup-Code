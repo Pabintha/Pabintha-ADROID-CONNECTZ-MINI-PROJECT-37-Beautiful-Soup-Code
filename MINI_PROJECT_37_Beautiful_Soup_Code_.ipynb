{
  "nbformat": 4,
  "nbformat_minor": 0,
  "metadata": {
    "colab": {
      "provenance": [],
      "authorship_tag": "ABX9TyOkfQucfUIcj+403nGBVJ7e"
    },
    "kernelspec": {
      "name": "python3",
      "display_name": "Python 3"
    },
    "language_info": {
      "name": "python"
    }
  },
  "cells": [
    {
      "cell_type": "markdown",
      "source": [
        "## **Beautiful Soup Code**"
      ],
      "metadata": {
        "id": "ObLXFSDaClaW"
      }
    },
    {
      "cell_type": "markdown",
      "source": [
        "**Install Beautiful Soup Library**"
      ],
      "metadata": {
        "id": "M0_hO4vZ32Zf"
      }
    },
    {
      "cell_type": "code",
      "execution_count": 2,
      "metadata": {
        "id": "1GikjUKlNRpN",
        "colab": {
          "base_uri": "https://localhost:8080/"
        },
        "outputId": "838251f6-f26a-47cb-8ad7-4e61e97fa32d"
      },
      "outputs": [
        {
          "output_type": "stream",
          "name": "stdout",
          "text": [
            "Requirement already satisfied: requests in /usr/local/lib/python3.10/dist-packages (2.27.1)\n",
            "Requirement already satisfied: beautifulsoup4 in /usr/local/lib/python3.10/dist-packages (4.11.2)\n",
            "Requirement already satisfied: urllib3<1.27,>=1.21.1 in /usr/local/lib/python3.10/dist-packages (from requests) (1.26.16)\n",
            "Requirement already satisfied: certifi>=2017.4.17 in /usr/local/lib/python3.10/dist-packages (from requests) (2023.5.7)\n",
            "Requirement already satisfied: charset-normalizer~=2.0.0 in /usr/local/lib/python3.10/dist-packages (from requests) (2.0.12)\n",
            "Requirement already satisfied: idna<4,>=2.5 in /usr/local/lib/python3.10/dist-packages (from requests) (3.4)\n",
            "Requirement already satisfied: soupsieve>1.2 in /usr/local/lib/python3.10/dist-packages (from beautifulsoup4) (2.4.1)\n"
          ]
        }
      ],
      "source": [
        "# Install libraries if required\n",
        "\n",
        "!pip install requests beautifulsoup4"
      ]
    },
    {
      "cell_type": "markdown",
      "source": [
        "**Import required libraries and read the URL**"
      ],
      "metadata": {
        "id": "jAcShb8not1L"
      }
    },
    {
      "cell_type": "code",
      "source": [
        "import requests\n",
        "from bs4 import BeautifulSoup\n",
        "\n",
        "# Add the url\n",
        "url = 'https://github.com/Pabintha/ADROID-CONNECTZ-MINI-PROJECT-34-Mashup-Generator-Web-App/blob/main/Mashup%20Generator/index.html'"
      ],
      "metadata": {
        "id": "XxTwMnAfpD7r"
      },
      "execution_count": 5,
      "outputs": []
    },
    {
      "cell_type": "markdown",
      "source": [
        "**Scrap all the raw data (html soup) using html.parser**"
      ],
      "metadata": {
        "id": "eHuGOG0pPn-u"
      }
    },
    {
      "cell_type": "code",
      "source": [
        "# Make a request to the website\n",
        "response = requests.get(url)\n",
        "\n",
        "# Create a BeautifulSoup object\n",
        "soup = BeautifulSoup(response.text, 'html.parser')\n"
      ],
      "metadata": {
        "id": "cXuf63g4NiCJ"
      },
      "execution_count": 6,
      "outputs": []
    },
    {
      "cell_type": "code",
      "source": [
        "#raw format or html format of scraped text\n",
        "print(soup)"
      ],
      "metadata": {
        "colab": {
          "base_uri": "https://localhost:8080/"
        },
        "id": "kRSdTNIjqc2p",
        "outputId": "f292c4f8-0edd-4487-abd5-a86152c6cce7"
      },
      "execution_count": 7,
      "outputs": [
        {
          "output_type": "stream",
          "name": "stdout",
          "text": [
            "{\"payload\":{\"allShortcutsEnabled\":false,\"fileTree\":{\"Mashup Generator\":{\"items\":[{\"name\":\"index.html\",\"path\":\"Mashup Generator/index.html\",\"contentType\":\"file\"},{\"name\":\"styles.css\",\"path\":\"Mashup Generator/styles.css\",\"contentType\":\"file\"},{\"name\":\"views.py\",\"path\":\"Mashup Generator/views.py\",\"contentType\":\"file\"}],\"totalCount\":3},\"\":{\"items\":[{\"name\":\"Mashup Generator\",\"path\":\"Mashup Generator\",\"contentType\":\"directory\"},{\"name\":\"README.md\",\"path\":\"README.md\",\"contentType\":\"file\"}],\"totalCount\":2}},\"fileTreeProcessingTime\":5.2562240000000005,\"foldersToFetch\":[],\"reducedMotionEnabled\":null,\"repo\":{\"id\":670448247,\"defaultBranch\":\"main\",\"name\":\"ADROID-CONNECTZ-MINI-PROJECT-34-Mashup-Generator-Web-App\",\"ownerLogin\":\"Pabintha\",\"currentUserCanPush\":false,\"isFork\":false,\"isEmpty\":false,\"createdAt\":\"2023-07-25T04:44:49.000Z\",\"ownerAvatar\":\"https://avatars.githubusercontent.com/u/93508937?v=4\",\"public\":true,\"private\":false,\"isOrgOwned\":false},\"refInfo\":{\"name\":\"main\",\"listCacheKey\":\"v0:1690260319.0\",\"canEdit\":false,\"refType\":\"branch\",\"currentOid\":\"3225be3a72274bef1e8baa442adfc06c5cc7e874\"},\"path\":\"Mashup Generator/index.html\",\"currentUser\":null,\"blob\":{\"rawLines\":[\"<!-- templates/home.html -->\\r\",\"<!DOCTYPE html>\n",
            "\\r\",\"<html lang='\\\"en\\\"'>\\r\",\"<head>\\r\",\"  <meta charset=\"utf-8\"/>\\r\",\"  <meta content='\\\"width=device-width,' initial-scale='1.0\\\"' name='\\\"viewport\\\"'/>\\r\",\"  <title>{{ page_title }}</title>\\r\",\"  <link %}\\\"=\"\" 'styles.css'=\"\" href='\\\"{%' rel='\\\"stylesheet\\\"' static=\"\"/>\\r\",\"</head>\\r\",\"<body>\\r\",\"  <header role='\\\"banner\\\"'>\\r\",\"      <h1>Mashup Generator Web App</h1>\\r\",\"  </header>\\r\",\"\\r\",\"  <main role='\\\"main\\\"'>\\r\",\"    <h1> {{ page_title }} </h1>\\r\",\"    <p> {{ page_content }} </p>\\r\",\"  </main>\\r\",\"  \\r\",\"  <footer role='\\\"contentinfo\\\"'>\\r\",\"    <p>2022, Mashup Generator Web App</p>\\r\",\"  </footer>\\r\",\"</body>\\r\",\"</html>\"],\"stylingDirectives\":[[{\"start\":0,\"end\":28,\"cssClass\":\"pl-c\"}],[{\"start\":0,\"end\":15,\"cssClass\":\"pl-c1\"},{\"start\":14,\"end\":15,\"cssClass\":\"pl-kos\"}],[{\"start\":0,\"end\":1,\"cssClass\":\"pl-kos\"},{\"start\":1,\"end\":5,\"cssClass\":\"pl-ent\"},{\"start\":6,\"end\":10,\"cssClass\":\"pl-c1\"},{\"start\":12,\"end\":14,\"cssClass\":\"pl-s\"},{\"start\":15,\"end\":16,\"cssClass\":\"pl-kos\"}],[{\"start\":0,\"end\":1,\"cssClass\":\"pl-kos\"},{\"start\":1,\"end\":5,\"cssClass\":\"pl-ent\"},{\"start\":5,\"end\":6,\"cssClass\":\"pl-kos\"}],[{\"start\":2,\"end\":3,\"cssClass\":\"pl-kos\"},{\"start\":3,\"end\":7,\"cssClass\":\"pl-ent\"},{\"start\":8,\"end\":15,\"cssClass\":\"pl-c1\"},{\"start\":17,\"end\":22,\"cssClass\":\"pl-s\"},{\"start\":23,\"end\":24,\"cssClass\":\"pl-kos\"}],[{\"start\":2,\"end\":3,\"cssClass\":\"pl-kos\"},{\"start\":3,\"end\":7,\"cssClass\":\"pl-ent\"},{\"start\":8,\"end\":12,\"cssClass\":\"pl-c1\"},{\"start\":14,\"end\":22,\"cssClass\":\"pl-s\"},{\"start\":24,\"end\":31,\"cssClass\":\"pl-c1\"},{\"start\":33,\"end\":70,\"cssClass\":\"pl-s\"},{\"start\":71,\"end\":72,\"cssClass\":\"pl-kos\"}],[{\"start\":2,\"end\":3,\"cssClass\":\"pl-kos\"},{\"start\":3,\"end\":8,\"cssClass\":\"pl-ent\"},{\"start\":8,\"end\":9,\"cssClass\":\"pl-kos\"},{\"start\":25,\"end\":27,\"cssClass\":\"pl-kos\"},{\"start\":27,\"end\":32,\"cssClass\":\"pl-ent\"},{\"start\":32,\"end\":33,\"cssClass\":\"pl-kos\"}],[{\"start\":2,\"end\":3,\"cssClass\":\"pl-kos\"},{\"start\":3,\"end\":7,\"cssClass\":\"pl-ent\"},{\"start\":8,\"end\":12,\"cssClass\":\"pl-c1\"},{\"start\":14,\"end\":39,\"cssClass\":\"pl-s\"},{\"start\":41,\"end\":44,\"cssClass\":\"pl-c1\"},{\"start\":46,\"end\":56,\"cssClass\":\"pl-s\"},{\"start\":57,\"end\":58,\"cssClass\":\"pl-kos\"}],[{\"start\":0,\"end\":2,\"cssClass\":\"pl-kos\"},{\"start\":2,\"end\":6,\"cssClass\":\"pl-ent\"},{\"start\":6,\"end\":7,\"cssClass\":\"pl-kos\"}],[{\"start\":0,\"end\":1,\"cssClass\":\"pl-kos\"},{\"start\":1,\"end\":5,\"cssClass\":\"pl-ent\"},{\"start\":5,\"end\":6,\"cssClass\":\"pl-kos\"}],[{\"start\":2,\"end\":3,\"cssClass\":\"pl-kos\"},{\"start\":3,\"end\":9,\"cssClass\":\"pl-ent\"},{\"start\":10,\"end\":14,\"cssClass\":\"pl-c1\"},{\"start\":16,\"end\":22,\"cssClass\":\"pl-s\"},{\"start\":23,\"end\":24,\"cssClass\":\"pl-kos\"}],[{\"start\":6,\"end\":7,\"cssClass\":\"pl-kos\"},{\"start\":7,\"end\":9,\"cssClass\":\"pl-ent\"},{\"start\":9,\"end\":10,\"cssClass\":\"pl-kos\"},{\"start\":34,\"end\":36,\"cssClass\":\"pl-kos\"},{\"start\":36,\"end\":38,\"cssClass\":\"pl-ent\"},{\"start\":38,\"end\":39,\"cssClass\":\"pl-kos\"}],[{\"start\":2,\"end\":4,\"cssClass\":\"pl-kos\"},{\"start\":4,\"end\":10,\"cssClass\":\"pl-ent\"},{\"start\":10,\"end\":11,\"cssClass\":\"pl-kos\"}],[],[{\"start\":2,\"end\":3,\"cssClass\":\"pl-kos\"},{\"start\":3,\"end\":7,\"cssClass\":\"pl-ent\"},{\"start\":8,\"end\":12,\"cssClass\":\"pl-c1\"},{\"start\":14,\"end\":18,\"cssClass\":\"pl-s\"},{\"start\":19,\"end\":20,\"cssClass\":\"pl-kos\"}],[{\"start\":4,\"end\":5,\"cssClass\":\"pl-kos\"},{\"start\":5,\"end\":7,\"cssClass\":\"pl-ent\"},{\"start\":7,\"end\":8,\"cssClass\":\"pl-kos\"},{\"start\":26,\"end\":28,\"cssClass\":\"pl-kos\"},{\"start\":28,\"end\":30,\"cssClass\":\"pl-ent\"},{\"start\":30,\"end\":31,\"cssClass\":\"pl-kos\"}],[{\"start\":4,\"end\":5,\"cssClass\":\"pl-kos\"},{\"start\":5,\"end\":6,\"cssClass\":\"pl-ent\"},{\"start\":6,\"end\":7,\"cssClass\":\"pl-kos\"},{\"start\":27,\"end\":29,\"cssClass\":\"pl-kos\"},{\"start\":29,\"end\":30,\"cssClass\":\"pl-ent\"},{\"start\":30,\"end\":31,\"cssClass\":\"pl-kos\"}],[{\"start\":2,\"end\":4,\"cssClass\":\"pl-kos\"},{\"start\":4,\"end\":8,\"cssClass\":\"pl-ent\"},{\"start\":8,\"end\":9,\"cssClass\":\"pl-kos\"}],[],[{\"start\":2,\"end\":3,\"cssClass\":\"pl-kos\"},{\"start\":3,\"end\":9,\"cssClass\":\"pl-ent\"},{\"start\":10,\"end\":14,\"cssClass\":\"pl-c1\"},{\"start\":16,\"end\":27,\"cssClass\":\"pl-s\"},{\"start\":28,\"end\":29,\"cssClass\":\"pl-kos\"}],[{\"start\":4,\"end\":5,\"cssClass\":\"pl-kos\"},{\"start\":5,\"end\":6,\"cssClass\":\"pl-ent\"},{\"start\":6,\"end\":7,\"cssClass\":\"pl-kos\"},{\"start\":37,\"end\":39,\"cssClass\":\"pl-kos\"},{\"start\":39,\"end\":40,\"cssClass\":\"pl-ent\"},{\"start\":40,\"end\":41,\"cssClass\":\"pl-kos\"}],[{\"start\":2,\"end\":4,\"cssClass\":\"pl-kos\"},{\"start\":4,\"end\":10,\"cssClass\":\"pl-ent\"},{\"start\":10,\"end\":11,\"cssClass\":\"pl-kos\"}],[{\"start\":0,\"end\":2,\"cssClass\":\"pl-kos\"},{\"start\":2,\"end\":6,\"cssClass\":\"pl-ent\"},{\"start\":6,\"end\":7,\"cssClass\":\"pl-kos\"}],[{\"start\":0,\"end\":2,\"cssClass\":\"pl-kos\"},{\"start\":2,\"end\":6,\"cssClass\":\"pl-ent\"},{\"start\":6,\"end\":7,\"cssClass\":\"pl-kos\"}]],\"csv\":null,\"csvError\":null,\"dependabotInfo\":{\"showConfigurationBanner\":false,\"configFilePath\":null,\"networkDependabotPath\":\"/Pabintha/ADROID-CONNECTZ-MINI-PROJECT-34-Mashup-Generator-Web-App/network/updates\",\"dismissConfigurationNoticePath\":\"/settings/dismiss-notice/dependabot_configuration_notice\",\"configurationNoticeDismissed\":null,\"repoAlertsPath\":\"/Pabintha/ADROID-CONNECTZ-MINI-PROJECT-34-Mashup-Generator-Web-App/security/dependabot\",\"repoSecurityAndAnalysisPath\":\"/Pabintha/ADROID-CONNECTZ-MINI-PROJECT-34-Mashup-Generator-Web-App/settings/security_analysis\",\"repoOwnerIsOrg\":false,\"currentUserCanAdminRepo\":false},\"displayName\":\"index.html\",\"displayUrl\":\"https://github.com/Pabintha/ADROID-CONNECTZ-MINI-PROJECT-34-Mashup-Generator-Web-App/blob/main/Mashup%20Generator/index.html?raw=true\",\"headerInfo\":{\"blobSize\":\"573 Bytes\",\"deleteInfo\":{\"deletePath\":null,\"deleteTooltip\":\"You must be signed in to make or propose changes\"},\"editInfo\":{\"editTooltip\":\"You must be signed in to make or propose changes\"},\"ghDesktopPath\":\"https://desktop.github.com\",\"gitLfsPath\":null,\"onBranch\":true,\"shortPath\":\"6a29d1b\",\"siteNavLoginPath\":\"/login?return_to=https%3A%2F%2Fgithub.com%2FPabintha%2FADROID-CONNECTZ-MINI-PROJECT-34-Mashup-Generator-Web-App%2Fblob%2Fmain%2FMashup%2520Generator%2Findex.html\",\"isCSV\":false,\"isRichtext\":false,\"toc\":null,\"lineInfo\":{\"truncatedLoc\":\"24\",\"truncatedSloc\":\"22\"},\"mode\":\"file\"},\"image\":false,\"isCodeownersFile\":null,\"isValidLegacyIssueTemplate\":false,\"issueTemplateHelpUrl\":\"https://docs.github.com/articles/about-issue-and-pull-request-templates\",\"issueTemplate\":null,\"discussionTemplate\":null,\"language\":\"HTML\",\"large\":false,\"loggedIn\":false,\"newDiscussionPath\":\"/Pabintha/ADROID-CONNECTZ-MINI-PROJECT-34-Mashup-Generator-Web-App/discussions/new\",\"newIssuePath\":\"/Pabintha/ADROID-CONNECTZ-MINI-PROJECT-34-Mashup-Generator-Web-App/issues/new\",\"planSupportInfo\":{\"repoIsFork\":null,\"repoOwnedByCurrentUser\":null,\"requestFullPath\":\"/Pabintha/ADROID-CONNECTZ-MINI-PROJECT-34-Mashup-Generator-Web-App/blob/main/Mashup%20Generator/index.html\",\"showFreeOrgGatedFeatureMessage\":null,\"showPlanSupportBanner\":null,\"upgradeDataAttributes\":null,\"upgradePath\":null},\"publishBannersInfo\":{\"dismissActionNoticePath\":\"/settings/dismiss-notice/publish_action_from_dockerfile\",\"dismissStackNoticePath\":\"/settings/dismiss-notice/publish_stack_from_file\",\"releasePath\":\"/Pabintha/ADROID-CONNECTZ-MINI-PROJECT-34-Mashup-Generator-Web-App/releases/new?marketplace=true\",\"showPublishActionBanner\":false,\"showPublishStackBanner\":false},\"renderImageOrRaw\":false,\"richText\":null,\"renderedFileInfo\":null,\"tabSize\":8,\"topBannersInfo\":{\"overridingGlobalFundingFile\":false,\"globalPreferredFundingPath\":null,\"repoOwner\":\"Pabintha\",\"repoName\":\"ADROID-CONNECTZ-MINI-PROJECT-34-Mashup-Generator-Web-App\",\"showInvalidCitationWarning\":false,\"citationHelpUrl\":\"https://docs.github.com/en/github/creating-cloning-and-archiving-repositories/creating-a-repository-on-github/about-citation-files\",\"showDependabotConfigurationBanner\":false,\"actionsOnboardingTip\":null},\"truncated\":false,\"viewable\":true,\"workflowRedirectUrl\":null,\"symbols\":{\"timedOut\":false,\"notAnalyzed\":true,\"symbols\":[]}},\"copilotUserAccess\":null,\"csrf_tokens\":{\"/Pabintha/ADROID-CONNECTZ-MINI-PROJECT-34-Mashup-Generator-Web-App/branches\":{\"post\":\"MLdNCUKS2KIuxeBVhYgKf4nJKykpcgM3gbXDjt0QmHP4TvBswlPuyPcFmtHlfesL6S-xgSlgX06gpyTGJEm7eQ\"}}},\"title\":\"ADROID-CONNECTZ-MINI-PROJECT-34-Mashup-Generator-Web-App/Mashup Generator/index.html at main · Pabintha/ADROID-CONNECTZ-MINI-PROJECT-34-Mashup-Generator-Web-App\",\"locale\":\"en\"}\n"
          ]
        }
      ]
    },
    {
      "cell_type": "markdown",
      "source": [
        "**Escape Sequences in Python**"
      ],
      "metadata": {
        "id": "YmNXIq89r1VH"
      }
    },
    {
      "cell_type": "code",
      "source": [
        "print(\"This is a\\ttabbed\\tline.\")\n",
        "# Output: This is a    tabbed  line.\n",
        "\n",
        "print(\"This is a new\\nline.\")\n",
        "# Output:\n",
        "# This is a\n",
        "# line.\n",
        "\n",
        "print(\"This is a backslash: \\\\\")\n",
        "# Output: This is a backslash: \\\n",
        "\n",
        "print(\"This is a unicode: \\u1234\")\n",
        "# Output: This is a unicode: ሴ\n",
        "\n",
        "\n",
        "\n",
        "# try Ruppee (₹) symbol unicode \"20B9\"\n",
        "\n",
        "# try other escape sequences by yourself by searching on google"
      ],
      "metadata": {
        "colab": {
          "base_uri": "https://localhost:8080/"
        },
        "id": "-GUiAA9ttI8q",
        "outputId": "c88593c1-d253-4b6c-95c5-451fcf200d0e"
      },
      "execution_count": 8,
      "outputs": [
        {
          "output_type": "stream",
          "name": "stdout",
          "text": [
            "This is a\ttabbed\tline.\n",
            "This is a new\n",
            "line.\n",
            "This is a backslash: \\\n",
            "This is a unicode: ሴ\n"
          ]
        }
      ]
    },
    {
      "cell_type": "markdown",
      "source": [
        "**Printing coumputer understandable format**"
      ],
      "metadata": {
        "id": "YjB6qMQXv1rl"
      }
    },
    {
      "cell_type": "code",
      "source": [
        "soup"
      ],
      "metadata": {
        "colab": {
          "base_uri": "https://localhost:8080/"
        },
        "id": "9hnqtTTypSN1",
        "outputId": "e7c6b5e7-b004-40b9-ad7a-99713e52c88b"
      },
      "execution_count": 9,
      "outputs": [
        {
          "output_type": "execute_result",
          "data": {
            "text/plain": [
              "{\"payload\":{\"allShortcutsEnabled\":false,\"fileTree\":{\"Mashup Generator\":{\"items\":[{\"name\":\"index.html\",\"path\":\"Mashup Generator/index.html\",\"contentType\":\"file\"},{\"name\":\"styles.css\",\"path\":\"Mashup Generator/styles.css\",\"contentType\":\"file\"},{\"name\":\"views.py\",\"path\":\"Mashup Generator/views.py\",\"contentType\":\"file\"}],\"totalCount\":3},\"\":{\"items\":[{\"name\":\"Mashup Generator\",\"path\":\"Mashup Generator\",\"contentType\":\"directory\"},{\"name\":\"README.md\",\"path\":\"README.md\",\"contentType\":\"file\"}],\"totalCount\":2}},\"fileTreeProcessingTime\":5.2562240000000005,\"foldersToFetch\":[],\"reducedMotionEnabled\":null,\"repo\":{\"id\":670448247,\"defaultBranch\":\"main\",\"name\":\"ADROID-CONNECTZ-MINI-PROJECT-34-Mashup-Generator-Web-App\",\"ownerLogin\":\"Pabintha\",\"currentUserCanPush\":false,\"isFork\":false,\"isEmpty\":false,\"createdAt\":\"2023-07-25T04:44:49.000Z\",\"ownerAvatar\":\"https://avatars.githubusercontent.com/u/93508937?v=4\",\"public\":true,\"private\":false,\"isOrgOwned\":false},\"refInfo\":{\"name\":\"main\",\"listCacheKey\":\"v0:1690260319.0\",\"canEdit\":false,\"refType\":\"branch\",\"currentOid\":\"3225be3a72274bef1e8baa442adfc06c5cc7e874\"},\"path\":\"Mashup Generator/index.html\",\"currentUser\":null,\"blob\":{\"rawLines\":[\"<!-- templates/home.html -->\\r\",\"<!DOCTYPE html>\n",
              "\\r\",\"<html lang='\\\"en\\\"'>\\r\",\"<head>\\r\",\"  <meta charset=\"utf-8\"/>\\r\",\"  <meta content='\\\"width=device-width,' initial-scale='1.0\\\"' name='\\\"viewport\\\"'/>\\r\",\"  <title>{{ page_title }}</title>\\r\",\"  <link %}\\\"=\"\" 'styles.css'=\"\" href='\\\"{%' rel='\\\"stylesheet\\\"' static=\"\"/>\\r\",\"</head>\\r\",\"<body>\\r\",\"  <header role='\\\"banner\\\"'>\\r\",\"      <h1>Mashup Generator Web App</h1>\\r\",\"  </header>\\r\",\"\\r\",\"  <main role='\\\"main\\\"'>\\r\",\"    <h1> {{ page_title }} </h1>\\r\",\"    <p> {{ page_content }} </p>\\r\",\"  </main>\\r\",\"  \\r\",\"  <footer role='\\\"contentinfo\\\"'>\\r\",\"    <p>2022, Mashup Generator Web App</p>\\r\",\"  </footer>\\r\",\"</body>\\r\",\"</html>\"],\"stylingDirectives\":[[{\"start\":0,\"end\":28,\"cssClass\":\"pl-c\"}],[{\"start\":0,\"end\":15,\"cssClass\":\"pl-c1\"},{\"start\":14,\"end\":15,\"cssClass\":\"pl-kos\"}],[{\"start\":0,\"end\":1,\"cssClass\":\"pl-kos\"},{\"start\":1,\"end\":5,\"cssClass\":\"pl-ent\"},{\"start\":6,\"end\":10,\"cssClass\":\"pl-c1\"},{\"start\":12,\"end\":14,\"cssClass\":\"pl-s\"},{\"start\":15,\"end\":16,\"cssClass\":\"pl-kos\"}],[{\"start\":0,\"end\":1,\"cssClass\":\"pl-kos\"},{\"start\":1,\"end\":5,\"cssClass\":\"pl-ent\"},{\"start\":5,\"end\":6,\"cssClass\":\"pl-kos\"}],[{\"start\":2,\"end\":3,\"cssClass\":\"pl-kos\"},{\"start\":3,\"end\":7,\"cssClass\":\"pl-ent\"},{\"start\":8,\"end\":15,\"cssClass\":\"pl-c1\"},{\"start\":17,\"end\":22,\"cssClass\":\"pl-s\"},{\"start\":23,\"end\":24,\"cssClass\":\"pl-kos\"}],[{\"start\":2,\"end\":3,\"cssClass\":\"pl-kos\"},{\"start\":3,\"end\":7,\"cssClass\":\"pl-ent\"},{\"start\":8,\"end\":12,\"cssClass\":\"pl-c1\"},{\"start\":14,\"end\":22,\"cssClass\":\"pl-s\"},{\"start\":24,\"end\":31,\"cssClass\":\"pl-c1\"},{\"start\":33,\"end\":70,\"cssClass\":\"pl-s\"},{\"start\":71,\"end\":72,\"cssClass\":\"pl-kos\"}],[{\"start\":2,\"end\":3,\"cssClass\":\"pl-kos\"},{\"start\":3,\"end\":8,\"cssClass\":\"pl-ent\"},{\"start\":8,\"end\":9,\"cssClass\":\"pl-kos\"},{\"start\":25,\"end\":27,\"cssClass\":\"pl-kos\"},{\"start\":27,\"end\":32,\"cssClass\":\"pl-ent\"},{\"start\":32,\"end\":33,\"cssClass\":\"pl-kos\"}],[{\"start\":2,\"end\":3,\"cssClass\":\"pl-kos\"},{\"start\":3,\"end\":7,\"cssClass\":\"pl-ent\"},{\"start\":8,\"end\":12,\"cssClass\":\"pl-c1\"},{\"start\":14,\"end\":39,\"cssClass\":\"pl-s\"},{\"start\":41,\"end\":44,\"cssClass\":\"pl-c1\"},{\"start\":46,\"end\":56,\"cssClass\":\"pl-s\"},{\"start\":57,\"end\":58,\"cssClass\":\"pl-kos\"}],[{\"start\":0,\"end\":2,\"cssClass\":\"pl-kos\"},{\"start\":2,\"end\":6,\"cssClass\":\"pl-ent\"},{\"start\":6,\"end\":7,\"cssClass\":\"pl-kos\"}],[{\"start\":0,\"end\":1,\"cssClass\":\"pl-kos\"},{\"start\":1,\"end\":5,\"cssClass\":\"pl-ent\"},{\"start\":5,\"end\":6,\"cssClass\":\"pl-kos\"}],[{\"start\":2,\"end\":3,\"cssClass\":\"pl-kos\"},{\"start\":3,\"end\":9,\"cssClass\":\"pl-ent\"},{\"start\":10,\"end\":14,\"cssClass\":\"pl-c1\"},{\"start\":16,\"end\":22,\"cssClass\":\"pl-s\"},{\"start\":23,\"end\":24,\"cssClass\":\"pl-kos\"}],[{\"start\":6,\"end\":7,\"cssClass\":\"pl-kos\"},{\"start\":7,\"end\":9,\"cssClass\":\"pl-ent\"},{\"start\":9,\"end\":10,\"cssClass\":\"pl-kos\"},{\"start\":34,\"end\":36,\"cssClass\":\"pl-kos\"},{\"start\":36,\"end\":38,\"cssClass\":\"pl-ent\"},{\"start\":38,\"end\":39,\"cssClass\":\"pl-kos\"}],[{\"start\":2,\"end\":4,\"cssClass\":\"pl-kos\"},{\"start\":4,\"end\":10,\"cssClass\":\"pl-ent\"},{\"start\":10,\"end\":11,\"cssClass\":\"pl-kos\"}],[],[{\"start\":2,\"end\":3,\"cssClass\":\"pl-kos\"},{\"start\":3,\"end\":7,\"cssClass\":\"pl-ent\"},{\"start\":8,\"end\":12,\"cssClass\":\"pl-c1\"},{\"start\":14,\"end\":18,\"cssClass\":\"pl-s\"},{\"start\":19,\"end\":20,\"cssClass\":\"pl-kos\"}],[{\"start\":4,\"end\":5,\"cssClass\":\"pl-kos\"},{\"start\":5,\"end\":7,\"cssClass\":\"pl-ent\"},{\"start\":7,\"end\":8,\"cssClass\":\"pl-kos\"},{\"start\":26,\"end\":28,\"cssClass\":\"pl-kos\"},{\"start\":28,\"end\":30,\"cssClass\":\"pl-ent\"},{\"start\":30,\"end\":31,\"cssClass\":\"pl-kos\"}],[{\"start\":4,\"end\":5,\"cssClass\":\"pl-kos\"},{\"start\":5,\"end\":6,\"cssClass\":\"pl-ent\"},{\"start\":6,\"end\":7,\"cssClass\":\"pl-kos\"},{\"start\":27,\"end\":29,\"cssClass\":\"pl-kos\"},{\"start\":29,\"end\":30,\"cssClass\":\"pl-ent\"},{\"start\":30,\"end\":31,\"cssClass\":\"pl-kos\"}],[{\"start\":2,\"end\":4,\"cssClass\":\"pl-kos\"},{\"start\":4,\"end\":8,\"cssClass\":\"pl-ent\"},{\"start\":8,\"end\":9,\"cssClass\":\"pl-kos\"}],[],[{\"start\":2,\"end\":3,\"cssClass\":\"pl-kos\"},{\"start\":3,\"end\":9,\"cssClass\":\"pl-ent\"},{\"start\":10,\"end\":14,\"cssClass\":\"pl-c1\"},{\"start\":16,\"end\":27,\"cssClass\":\"pl-s\"},{\"start\":28,\"end\":29,\"cssClass\":\"pl-kos\"}],[{\"start\":4,\"end\":5,\"cssClass\":\"pl-kos\"},{\"start\":5,\"end\":6,\"cssClass\":\"pl-ent\"},{\"start\":6,\"end\":7,\"cssClass\":\"pl-kos\"},{\"start\":37,\"end\":39,\"cssClass\":\"pl-kos\"},{\"start\":39,\"end\":40,\"cssClass\":\"pl-ent\"},{\"start\":40,\"end\":41,\"cssClass\":\"pl-kos\"}],[{\"start\":2,\"end\":4,\"cssClass\":\"pl-kos\"},{\"start\":4,\"end\":10,\"cssClass\":\"pl-ent\"},{\"start\":10,\"end\":11,\"cssClass\":\"pl-kos\"}],[{\"start\":0,\"end\":2,\"cssClass\":\"pl-kos\"},{\"start\":2,\"end\":6,\"cssClass\":\"pl-ent\"},{\"start\":6,\"end\":7,\"cssClass\":\"pl-kos\"}],[{\"start\":0,\"end\":2,\"cssClass\":\"pl-kos\"},{\"start\":2,\"end\":6,\"cssClass\":\"pl-ent\"},{\"start\":6,\"end\":7,\"cssClass\":\"pl-kos\"}]],\"csv\":null,\"csvError\":null,\"dependabotInfo\":{\"showConfigurationBanner\":false,\"configFilePath\":null,\"networkDependabotPath\":\"/Pabintha/ADROID-CONNECTZ-MINI-PROJECT-34-Mashup-Generator-Web-App/network/updates\",\"dismissConfigurationNoticePath\":\"/settings/dismiss-notice/dependabot_configuration_notice\",\"configurationNoticeDismissed\":null,\"repoAlertsPath\":\"/Pabintha/ADROID-CONNECTZ-MINI-PROJECT-34-Mashup-Generator-Web-App/security/dependabot\",\"repoSecurityAndAnalysisPath\":\"/Pabintha/ADROID-CONNECTZ-MINI-PROJECT-34-Mashup-Generator-Web-App/settings/security_analysis\",\"repoOwnerIsOrg\":false,\"currentUserCanAdminRepo\":false},\"displayName\":\"index.html\",\"displayUrl\":\"https://github.com/Pabintha/ADROID-CONNECTZ-MINI-PROJECT-34-Mashup-Generator-Web-App/blob/main/Mashup%20Generator/index.html?raw=true\",\"headerInfo\":{\"blobSize\":\"573 Bytes\",\"deleteInfo\":{\"deletePath\":null,\"deleteTooltip\":\"You must be signed in to make or propose changes\"},\"editInfo\":{\"editTooltip\":\"You must be signed in to make or propose changes\"},\"ghDesktopPath\":\"https://desktop.github.com\",\"gitLfsPath\":null,\"onBranch\":true,\"shortPath\":\"6a29d1b\",\"siteNavLoginPath\":\"/login?return_to=https%3A%2F%2Fgithub.com%2FPabintha%2FADROID-CONNECTZ-MINI-PROJECT-34-Mashup-Generator-Web-App%2Fblob%2Fmain%2FMashup%2520Generator%2Findex.html\",\"isCSV\":false,\"isRichtext\":false,\"toc\":null,\"lineInfo\":{\"truncatedLoc\":\"24\",\"truncatedSloc\":\"22\"},\"mode\":\"file\"},\"image\":false,\"isCodeownersFile\":null,\"isValidLegacyIssueTemplate\":false,\"issueTemplateHelpUrl\":\"https://docs.github.com/articles/about-issue-and-pull-request-templates\",\"issueTemplate\":null,\"discussionTemplate\":null,\"language\":\"HTML\",\"large\":false,\"loggedIn\":false,\"newDiscussionPath\":\"/Pabintha/ADROID-CONNECTZ-MINI-PROJECT-34-Mashup-Generator-Web-App/discussions/new\",\"newIssuePath\":\"/Pabintha/ADROID-CONNECTZ-MINI-PROJECT-34-Mashup-Generator-Web-App/issues/new\",\"planSupportInfo\":{\"repoIsFork\":null,\"repoOwnedByCurrentUser\":null,\"requestFullPath\":\"/Pabintha/ADROID-CONNECTZ-MINI-PROJECT-34-Mashup-Generator-Web-App/blob/main/Mashup%20Generator/index.html\",\"showFreeOrgGatedFeatureMessage\":null,\"showPlanSupportBanner\":null,\"upgradeDataAttributes\":null,\"upgradePath\":null},\"publishBannersInfo\":{\"dismissActionNoticePath\":\"/settings/dismiss-notice/publish_action_from_dockerfile\",\"dismissStackNoticePath\":\"/settings/dismiss-notice/publish_stack_from_file\",\"releasePath\":\"/Pabintha/ADROID-CONNECTZ-MINI-PROJECT-34-Mashup-Generator-Web-App/releases/new?marketplace=true\",\"showPublishActionBanner\":false,\"showPublishStackBanner\":false},\"renderImageOrRaw\":false,\"richText\":null,\"renderedFileInfo\":null,\"tabSize\":8,\"topBannersInfo\":{\"overridingGlobalFundingFile\":false,\"globalPreferredFundingPath\":null,\"repoOwner\":\"Pabintha\",\"repoName\":\"ADROID-CONNECTZ-MINI-PROJECT-34-Mashup-Generator-Web-App\",\"showInvalidCitationWarning\":false,\"citationHelpUrl\":\"https://docs.github.com/en/github/creating-cloning-and-archiving-repositories/creating-a-repository-on-github/about-citation-files\",\"showDependabotConfigurationBanner\":false,\"actionsOnboardingTip\":null},\"truncated\":false,\"viewable\":true,\"workflowRedirectUrl\":null,\"symbols\":{\"timedOut\":false,\"notAnalyzed\":true,\"symbols\":[]}},\"copilotUserAccess\":null,\"csrf_tokens\":{\"/Pabintha/ADROID-CONNECTZ-MINI-PROJECT-34-Mashup-Generator-Web-App/branches\":{\"post\":\"MLdNCUKS2KIuxeBVhYgKf4nJKykpcgM3gbXDjt0QmHP4TvBswlPuyPcFmtHlfesL6S-xgSlgX06gpyTGJEm7eQ\"}}},\"title\":\"ADROID-CONNECTZ-MINI-PROJECT-34-Mashup-Generator-Web-App/Mashup Generator/index.html at main · Pabintha/ADROID-CONNECTZ-MINI-PROJECT-34-Mashup-Generator-Web-App\",\"locale\":\"en\"}"
            ]
          },
          "metadata": {},
          "execution_count": 9
        }
      ]
    },
    {
      "cell_type": "markdown",
      "source": [
        "**Another example where we can see the comparison**"
      ],
      "metadata": {
        "id": "ypC43SNpx62z"
      }
    },
    {
      "cell_type": "code",
      "source": [
        "var = \"Hello \\n World \\t !\""
      ],
      "metadata": {
        "id": "exK08ExWyK5K"
      },
      "execution_count": 10,
      "outputs": []
    },
    {
      "cell_type": "code",
      "source": [
        "#computer readable format\n",
        "var"
      ],
      "metadata": {
        "colab": {
          "base_uri": "https://localhost:8080/",
          "height": 36
        },
        "id": "MdtuougiyP73",
        "outputId": "fa158e40-48c1-412e-a762-b209742a2410"
      },
      "execution_count": 11,
      "outputs": [
        {
          "output_type": "execute_result",
          "data": {
            "text/plain": [
              "'Hello \\n World \\t !'"
            ],
            "application/vnd.google.colaboratory.intrinsic+json": {
              "type": "string"
            }
          },
          "metadata": {},
          "execution_count": 11
        }
      ]
    },
    {
      "cell_type": "code",
      "source": [
        "#human readable format\n",
        "print(var)"
      ],
      "metadata": {
        "colab": {
          "base_uri": "https://localhost:8080/"
        },
        "id": "4x0uOjY4yRvI",
        "outputId": "5b62700a-7cc0-444f-c992-0bb3f1aa8365"
      },
      "execution_count": 12,
      "outputs": [
        {
          "output_type": "stream",
          "name": "stdout",
          "text": [
            "Hello \n",
            " World \t !\n"
          ]
        }
      ]
    },
    {
      "cell_type": "markdown",
      "source": [
        "**We will find Page Title**"
      ],
      "metadata": {
        "id": "55ZQpLMFpxCr"
      }
    },
    {
      "cell_type": "code",
      "source": [
        "# Find and extract specific elements from the HTML\n",
        "title = soup.title.text\n",
        "print('Page title:\\n', title)"
      ],
      "metadata": {
        "colab": {
          "base_uri": "https://localhost:8080/"
        },
        "id": "s1EJ2wF5qZ1A",
        "outputId": "33ecf832-a541-4cbd-8db8-1bed9df0eeee"
      },
      "execution_count": 13,
      "outputs": [
        {
          "output_type": "stream",
          "name": "stdout",
          "text": [
            "Page title:\n",
            " {{ page_title }}\n"
          ]
        }
      ]
    },
    {
      "cell_type": "markdown",
      "source": [
        "**Let's find all links that are present on the url page**"
      ],
      "metadata": {
        "id": "ZiWyLX0dyxZ3"
      }
    },
    {
      "cell_type": "code",
      "source": [
        "# Find all the links on the page\n",
        "links = soup.find_all('a')\n",
        "print('Links:')\n",
        "for link in links:\n",
        "    print(link.get('href'))"
      ],
      "metadata": {
        "colab": {
          "base_uri": "https://localhost:8080/"
        },
        "id": "nV7SkODRy_Yi",
        "outputId": "c88e7e8d-472c-4cc6-870e-7b946dc585a0"
      },
      "execution_count": 15,
      "outputs": [
        {
          "output_type": "stream",
          "name": "stdout",
          "text": [
            "Links:\n"
          ]
        }
      ]
    },
    {
      "cell_type": "markdown",
      "source": [
        "**Lets find all the data on the webpage, except html tags.**"
      ],
      "metadata": {
        "id": "Wum9bVSf05rZ"
      }
    },
    {
      "cell_type": "code",
      "source": [
        "print(soup.get_text())"
      ],
      "metadata": {
        "colab": {
          "base_uri": "https://localhost:8080/"
        },
        "id": "eQVRfHe000yj",
        "outputId": "af6cdb3f-a9f0-4967-c9fd-60e89d0a3d8b"
      },
      "execution_count": 16,
      "outputs": [
        {
          "output_type": "stream",
          "name": "stdout",
          "text": [
            "{\"payload\":{\"allShortcutsEnabled\":false,\"fileTree\":{\"Mashup Generator\":{\"items\":[{\"name\":\"index.html\",\"path\":\"Mashup Generator/index.html\",\"contentType\":\"file\"},{\"name\":\"styles.css\",\"path\":\"Mashup Generator/styles.css\",\"contentType\":\"file\"},{\"name\":\"views.py\",\"path\":\"Mashup Generator/views.py\",\"contentType\":\"file\"}],\"totalCount\":3},\"\":{\"items\":[{\"name\":\"Mashup Generator\",\"path\":\"Mashup Generator\",\"contentType\":\"directory\"},{\"name\":\"README.md\",\"path\":\"README.md\",\"contentType\":\"file\"}],\"totalCount\":2}},\"fileTreeProcessingTime\":5.2562240000000005,\"foldersToFetch\":[],\"reducedMotionEnabled\":null,\"repo\":{\"id\":670448247,\"defaultBranch\":\"main\",\"name\":\"ADROID-CONNECTZ-MINI-PROJECT-34-Mashup-Generator-Web-App\",\"ownerLogin\":\"Pabintha\",\"currentUserCanPush\":false,\"isFork\":false,\"isEmpty\":false,\"createdAt\":\"2023-07-25T04:44:49.000Z\",\"ownerAvatar\":\"https://avatars.githubusercontent.com/u/93508937?v=4\",\"public\":true,\"private\":false,\"isOrgOwned\":false},\"refInfo\":{\"name\":\"main\",\"listCacheKey\":\"v0:1690260319.0\",\"canEdit\":false,\"refType\":\"branch\",\"currentOid\":\"3225be3a72274bef1e8baa442adfc06c5cc7e874\"},\"path\":\"Mashup Generator/index.html\",\"currentUser\":null,\"blob\":{\"rawLines\":[\"\\r\",\"\\r\",\"\\r\",\"\\r\",\"  \\r\",\"  \\r\",\"  {{ page_title }}\\r\",\"  \\r\",\"\\r\",\"\\r\",\"  \\r\",\"      Mashup Generator Web App\\r\",\"  \\r\",\"\\r\",\"  \\r\",\"     {{ page_title }} \\r\",\"     {{ page_content }} \\r\",\"  \\r\",\"  \\r\",\"  \\r\",\"    2022, Mashup Generator Web App\\r\",\"  \\r\",\"\\r\",\"\"],\"stylingDirectives\":[[{\"start\":0,\"end\":28,\"cssClass\":\"pl-c\"}],[{\"start\":0,\"end\":15,\"cssClass\":\"pl-c1\"},{\"start\":14,\"end\":15,\"cssClass\":\"pl-kos\"}],[{\"start\":0,\"end\":1,\"cssClass\":\"pl-kos\"},{\"start\":1,\"end\":5,\"cssClass\":\"pl-ent\"},{\"start\":6,\"end\":10,\"cssClass\":\"pl-c1\"},{\"start\":12,\"end\":14,\"cssClass\":\"pl-s\"},{\"start\":15,\"end\":16,\"cssClass\":\"pl-kos\"}],[{\"start\":0,\"end\":1,\"cssClass\":\"pl-kos\"},{\"start\":1,\"end\":5,\"cssClass\":\"pl-ent\"},{\"start\":5,\"end\":6,\"cssClass\":\"pl-kos\"}],[{\"start\":2,\"end\":3,\"cssClass\":\"pl-kos\"},{\"start\":3,\"end\":7,\"cssClass\":\"pl-ent\"},{\"start\":8,\"end\":15,\"cssClass\":\"pl-c1\"},{\"start\":17,\"end\":22,\"cssClass\":\"pl-s\"},{\"start\":23,\"end\":24,\"cssClass\":\"pl-kos\"}],[{\"start\":2,\"end\":3,\"cssClass\":\"pl-kos\"},{\"start\":3,\"end\":7,\"cssClass\":\"pl-ent\"},{\"start\":8,\"end\":12,\"cssClass\":\"pl-c1\"},{\"start\":14,\"end\":22,\"cssClass\":\"pl-s\"},{\"start\":24,\"end\":31,\"cssClass\":\"pl-c1\"},{\"start\":33,\"end\":70,\"cssClass\":\"pl-s\"},{\"start\":71,\"end\":72,\"cssClass\":\"pl-kos\"}],[{\"start\":2,\"end\":3,\"cssClass\":\"pl-kos\"},{\"start\":3,\"end\":8,\"cssClass\":\"pl-ent\"},{\"start\":8,\"end\":9,\"cssClass\":\"pl-kos\"},{\"start\":25,\"end\":27,\"cssClass\":\"pl-kos\"},{\"start\":27,\"end\":32,\"cssClass\":\"pl-ent\"},{\"start\":32,\"end\":33,\"cssClass\":\"pl-kos\"}],[{\"start\":2,\"end\":3,\"cssClass\":\"pl-kos\"},{\"start\":3,\"end\":7,\"cssClass\":\"pl-ent\"},{\"start\":8,\"end\":12,\"cssClass\":\"pl-c1\"},{\"start\":14,\"end\":39,\"cssClass\":\"pl-s\"},{\"start\":41,\"end\":44,\"cssClass\":\"pl-c1\"},{\"start\":46,\"end\":56,\"cssClass\":\"pl-s\"},{\"start\":57,\"end\":58,\"cssClass\":\"pl-kos\"}],[{\"start\":0,\"end\":2,\"cssClass\":\"pl-kos\"},{\"start\":2,\"end\":6,\"cssClass\":\"pl-ent\"},{\"start\":6,\"end\":7,\"cssClass\":\"pl-kos\"}],[{\"start\":0,\"end\":1,\"cssClass\":\"pl-kos\"},{\"start\":1,\"end\":5,\"cssClass\":\"pl-ent\"},{\"start\":5,\"end\":6,\"cssClass\":\"pl-kos\"}],[{\"start\":2,\"end\":3,\"cssClass\":\"pl-kos\"},{\"start\":3,\"end\":9,\"cssClass\":\"pl-ent\"},{\"start\":10,\"end\":14,\"cssClass\":\"pl-c1\"},{\"start\":16,\"end\":22,\"cssClass\":\"pl-s\"},{\"start\":23,\"end\":24,\"cssClass\":\"pl-kos\"}],[{\"start\":6,\"end\":7,\"cssClass\":\"pl-kos\"},{\"start\":7,\"end\":9,\"cssClass\":\"pl-ent\"},{\"start\":9,\"end\":10,\"cssClass\":\"pl-kos\"},{\"start\":34,\"end\":36,\"cssClass\":\"pl-kos\"},{\"start\":36,\"end\":38,\"cssClass\":\"pl-ent\"},{\"start\":38,\"end\":39,\"cssClass\":\"pl-kos\"}],[{\"start\":2,\"end\":4,\"cssClass\":\"pl-kos\"},{\"start\":4,\"end\":10,\"cssClass\":\"pl-ent\"},{\"start\":10,\"end\":11,\"cssClass\":\"pl-kos\"}],[],[{\"start\":2,\"end\":3,\"cssClass\":\"pl-kos\"},{\"start\":3,\"end\":7,\"cssClass\":\"pl-ent\"},{\"start\":8,\"end\":12,\"cssClass\":\"pl-c1\"},{\"start\":14,\"end\":18,\"cssClass\":\"pl-s\"},{\"start\":19,\"end\":20,\"cssClass\":\"pl-kos\"}],[{\"start\":4,\"end\":5,\"cssClass\":\"pl-kos\"},{\"start\":5,\"end\":7,\"cssClass\":\"pl-ent\"},{\"start\":7,\"end\":8,\"cssClass\":\"pl-kos\"},{\"start\":26,\"end\":28,\"cssClass\":\"pl-kos\"},{\"start\":28,\"end\":30,\"cssClass\":\"pl-ent\"},{\"start\":30,\"end\":31,\"cssClass\":\"pl-kos\"}],[{\"start\":4,\"end\":5,\"cssClass\":\"pl-kos\"},{\"start\":5,\"end\":6,\"cssClass\":\"pl-ent\"},{\"start\":6,\"end\":7,\"cssClass\":\"pl-kos\"},{\"start\":27,\"end\":29,\"cssClass\":\"pl-kos\"},{\"start\":29,\"end\":30,\"cssClass\":\"pl-ent\"},{\"start\":30,\"end\":31,\"cssClass\":\"pl-kos\"}],[{\"start\":2,\"end\":4,\"cssClass\":\"pl-kos\"},{\"start\":4,\"end\":8,\"cssClass\":\"pl-ent\"},{\"start\":8,\"end\":9,\"cssClass\":\"pl-kos\"}],[],[{\"start\":2,\"end\":3,\"cssClass\":\"pl-kos\"},{\"start\":3,\"end\":9,\"cssClass\":\"pl-ent\"},{\"start\":10,\"end\":14,\"cssClass\":\"pl-c1\"},{\"start\":16,\"end\":27,\"cssClass\":\"pl-s\"},{\"start\":28,\"end\":29,\"cssClass\":\"pl-kos\"}],[{\"start\":4,\"end\":5,\"cssClass\":\"pl-kos\"},{\"start\":5,\"end\":6,\"cssClass\":\"pl-ent\"},{\"start\":6,\"end\":7,\"cssClass\":\"pl-kos\"},{\"start\":37,\"end\":39,\"cssClass\":\"pl-kos\"},{\"start\":39,\"end\":40,\"cssClass\":\"pl-ent\"},{\"start\":40,\"end\":41,\"cssClass\":\"pl-kos\"}],[{\"start\":2,\"end\":4,\"cssClass\":\"pl-kos\"},{\"start\":4,\"end\":10,\"cssClass\":\"pl-ent\"},{\"start\":10,\"end\":11,\"cssClass\":\"pl-kos\"}],[{\"start\":0,\"end\":2,\"cssClass\":\"pl-kos\"},{\"start\":2,\"end\":6,\"cssClass\":\"pl-ent\"},{\"start\":6,\"end\":7,\"cssClass\":\"pl-kos\"}],[{\"start\":0,\"end\":2,\"cssClass\":\"pl-kos\"},{\"start\":2,\"end\":6,\"cssClass\":\"pl-ent\"},{\"start\":6,\"end\":7,\"cssClass\":\"pl-kos\"}]],\"csv\":null,\"csvError\":null,\"dependabotInfo\":{\"showConfigurationBanner\":false,\"configFilePath\":null,\"networkDependabotPath\":\"/Pabintha/ADROID-CONNECTZ-MINI-PROJECT-34-Mashup-Generator-Web-App/network/updates\",\"dismissConfigurationNoticePath\":\"/settings/dismiss-notice/dependabot_configuration_notice\",\"configurationNoticeDismissed\":null,\"repoAlertsPath\":\"/Pabintha/ADROID-CONNECTZ-MINI-PROJECT-34-Mashup-Generator-Web-App/security/dependabot\",\"repoSecurityAndAnalysisPath\":\"/Pabintha/ADROID-CONNECTZ-MINI-PROJECT-34-Mashup-Generator-Web-App/settings/security_analysis\",\"repoOwnerIsOrg\":false,\"currentUserCanAdminRepo\":false},\"displayName\":\"index.html\",\"displayUrl\":\"https://github.com/Pabintha/ADROID-CONNECTZ-MINI-PROJECT-34-Mashup-Generator-Web-App/blob/main/Mashup%20Generator/index.html?raw=true\",\"headerInfo\":{\"blobSize\":\"573 Bytes\",\"deleteInfo\":{\"deletePath\":null,\"deleteTooltip\":\"You must be signed in to make or propose changes\"},\"editInfo\":{\"editTooltip\":\"You must be signed in to make or propose changes\"},\"ghDesktopPath\":\"https://desktop.github.com\",\"gitLfsPath\":null,\"onBranch\":true,\"shortPath\":\"6a29d1b\",\"siteNavLoginPath\":\"/login?return_to=https%3A%2F%2Fgithub.com%2FPabintha%2FADROID-CONNECTZ-MINI-PROJECT-34-Mashup-Generator-Web-App%2Fblob%2Fmain%2FMashup%2520Generator%2Findex.html\",\"isCSV\":false,\"isRichtext\":false,\"toc\":null,\"lineInfo\":{\"truncatedLoc\":\"24\",\"truncatedSloc\":\"22\"},\"mode\":\"file\"},\"image\":false,\"isCodeownersFile\":null,\"isValidLegacyIssueTemplate\":false,\"issueTemplateHelpUrl\":\"https://docs.github.com/articles/about-issue-and-pull-request-templates\",\"issueTemplate\":null,\"discussionTemplate\":null,\"language\":\"HTML\",\"large\":false,\"loggedIn\":false,\"newDiscussionPath\":\"/Pabintha/ADROID-CONNECTZ-MINI-PROJECT-34-Mashup-Generator-Web-App/discussions/new\",\"newIssuePath\":\"/Pabintha/ADROID-CONNECTZ-MINI-PROJECT-34-Mashup-Generator-Web-App/issues/new\",\"planSupportInfo\":{\"repoIsFork\":null,\"repoOwnedByCurrentUser\":null,\"requestFullPath\":\"/Pabintha/ADROID-CONNECTZ-MINI-PROJECT-34-Mashup-Generator-Web-App/blob/main/Mashup%20Generator/index.html\",\"showFreeOrgGatedFeatureMessage\":null,\"showPlanSupportBanner\":null,\"upgradeDataAttributes\":null,\"upgradePath\":null},\"publishBannersInfo\":{\"dismissActionNoticePath\":\"/settings/dismiss-notice/publish_action_from_dockerfile\",\"dismissStackNoticePath\":\"/settings/dismiss-notice/publish_stack_from_file\",\"releasePath\":\"/Pabintha/ADROID-CONNECTZ-MINI-PROJECT-34-Mashup-Generator-Web-App/releases/new?marketplace=true\",\"showPublishActionBanner\":false,\"showPublishStackBanner\":false},\"renderImageOrRaw\":false,\"richText\":null,\"renderedFileInfo\":null,\"tabSize\":8,\"topBannersInfo\":{\"overridingGlobalFundingFile\":false,\"globalPreferredFundingPath\":null,\"repoOwner\":\"Pabintha\",\"repoName\":\"ADROID-CONNECTZ-MINI-PROJECT-34-Mashup-Generator-Web-App\",\"showInvalidCitationWarning\":false,\"citationHelpUrl\":\"https://docs.github.com/en/github/creating-cloning-and-archiving-repositories/creating-a-repository-on-github/about-citation-files\",\"showDependabotConfigurationBanner\":false,\"actionsOnboardingTip\":null},\"truncated\":false,\"viewable\":true,\"workflowRedirectUrl\":null,\"symbols\":{\"timedOut\":false,\"notAnalyzed\":true,\"symbols\":[]}},\"copilotUserAccess\":null,\"csrf_tokens\":{\"/Pabintha/ADROID-CONNECTZ-MINI-PROJECT-34-Mashup-Generator-Web-App/branches\":{\"post\":\"MLdNCUKS2KIuxeBVhYgKf4nJKykpcgM3gbXDjt0QmHP4TvBswlPuyPcFmtHlfesL6S-xgSlgX06gpyTGJEm7eQ\"}}},\"title\":\"ADROID-CONNECTZ-MINI-PROJECT-34-Mashup-Generator-Web-App/Mashup Generator/index.html at main · Pabintha/ADROID-CONNECTZ-MINI-PROJECT-34-Mashup-Generator-Web-App\",\"locale\":\"en\"}\n"
          ]
        }
      ]
    }
  ]
}